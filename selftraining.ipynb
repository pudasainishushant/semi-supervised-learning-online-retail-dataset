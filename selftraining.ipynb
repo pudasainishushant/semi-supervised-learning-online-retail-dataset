{
 "cells": [
  {
   "cell_type": "code",
   "execution_count": 1,
   "id": "613dee1a",
   "metadata": {},
   "outputs": [
    {
     "name": "stderr",
     "output_type": "stream",
     "text": [
      "/tmp/ipykernel_292381/2604039561.py:3: DtypeWarning: Columns (1) have mixed types. Specify dtype option on import or set low_memory=False.\n",
      "  labelled_data = pd.read_csv(\"data.csv\")\n",
      "/home/fm-pc-lt-228/anaconda3/envs/winks/lib/python3.9/site-packages/sklearn/preprocessing/_label.py:98: DataConversionWarning: A column-vector y was passed when a 1d array was expected. Please change the shape of y to (n_samples, ), for example using ravel().\n",
      "  y = column_or_1d(y, warn=True)\n",
      "/home/fm-pc-lt-228/anaconda3/envs/winks/lib/python3.9/site-packages/sklearn/preprocessing/_label.py:133: DataConversionWarning: A column-vector y was passed when a 1d array was expected. Please change the shape of y to (n_samples, ), for example using ravel().\n",
      "  y = column_or_1d(y, warn=True)\n"
     ]
    }
   ],
   "source": [
    "import pandas as pd\n",
    "\n",
    "labelled_data = pd.read_csv(\"data.csv\")\n",
    "\n",
    "X = labelled_data[['Recency',\t'Frequency',\t'Monetary',\t'R_rank_norm',\t'F_rank_norm',\t'M_rank_norm',\t'RFM_Score']]\n",
    "\n",
    "Y = labelled_data[[\"Category from GMM\"]]\n",
    "\n",
    "from sklearn import preprocessing\n",
    "le = preprocessing.LabelEncoder()\n",
    "le.fit(Y)\n",
    "\n",
    "y = le.transform(Y)"
   ]
  },
  {
   "cell_type": "code",
   "execution_count": 2,
   "id": "60ecaf71",
   "metadata": {},
   "outputs": [],
   "source": [
    "from sklearn.semi_supervised import SelfTrainingClassifier"
   ]
  },
  {
   "cell_type": "code",
   "execution_count": 4,
   "id": "f9cab611",
   "metadata": {},
   "outputs": [],
   "source": [
    "import numpy as np"
   ]
  },
  {
   "cell_type": "code",
   "execution_count": 5,
   "id": "5881e814",
   "metadata": {},
   "outputs": [],
   "source": [
    "rng = np.random.RandomState(0)"
   ]
  },
  {
   "cell_type": "code",
   "execution_count": 6,
   "id": "b6380b97",
   "metadata": {},
   "outputs": [],
   "source": [
    "y_rand = rng.rand(y.shape[0])"
   ]
  },
  {
   "cell_type": "code",
   "execution_count": 7,
   "id": "f688f4cb",
   "metadata": {},
   "outputs": [],
   "source": [
    "y_50 = np.copy(y)\n",
    "y_50[y_rand < 0.5] = -1"
   ]
  },
  {
   "cell_type": "code",
   "execution_count": 8,
   "id": "a9519798",
   "metadata": {},
   "outputs": [],
   "source": [
    "from sklearn.svm import SVC"
   ]
  },
  {
   "cell_type": "code",
   "execution_count": null,
   "id": "007395ee",
   "metadata": {},
   "outputs": [],
   "source": [
    "# the base classifier for self-training is identical to the SVC\n",
    "base_classifier = SVC(kernel=\"rbf\", gamma=0.5, probability=True)\n",
    "\n",
    "st50 = (\n",
    "    SelfTrainingClassifier(base_classifier).fit(X, y_50),\n",
    "    y_50,\n",
    "    \"Self-training 50% data\",\n",
    ")"
   ]
  },
  {
   "cell_type": "code",
   "execution_count": null,
   "id": "6ff0c823",
   "metadata": {},
   "outputs": [],
   "source": []
  }
 ],
 "metadata": {
  "kernelspec": {
   "display_name": "Python 3 (ipykernel)",
   "language": "python",
   "name": "python3"
  },
  "language_info": {
   "codemirror_mode": {
    "name": "ipython",
    "version": 3
   },
   "file_extension": ".py",
   "mimetype": "text/x-python",
   "name": "python",
   "nbconvert_exporter": "python",
   "pygments_lexer": "ipython3",
   "version": "3.9.13"
  }
 },
 "nbformat": 4,
 "nbformat_minor": 5
}
