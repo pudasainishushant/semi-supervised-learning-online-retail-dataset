{
 "cells": [
  {
   "cell_type": "code",
   "execution_count": 1,
   "id": "ffdefafb",
   "metadata": {},
   "outputs": [],
   "source": [
    "import numpy as np\n",
    "import matplotlib.pyplot as plt\n",
    "from sklearn import datasets\n",
    "from sklearn.svm import SVC\n",
    "from sklearn.model_selection import StratifiedKFold\n",
    "from sklearn.semi_supervised import SelfTrainingClassifier\n",
    "from sklearn.metrics import accuracy_score\n",
    "from sklearn.utils import shuffle\n",
    "\n"
   ]
  },
  {
   "cell_type": "code",
   "execution_count": 2,
   "id": "2560594b",
   "metadata": {},
   "outputs": [],
   "source": [
    "n_splits = 3\n",
    "\n",
    "X, y = datasets.load_breast_cancer(return_X_y=True)\n",
    "X, y = shuffle(X, y, random_state=42)\n"
   ]
  },
  {
   "cell_type": "code",
   "execution_count": 3,
   "id": "497da3dc",
   "metadata": {},
   "outputs": [
    {
     "data": {
      "text/plain": [
       "array([1, 0, 0, 1, 1, 0, 0, 0, 1, 1, 1, 0, 1, 0, 1, 0, 1, 1, 1, 0, 0, 1,\n",
       "       0, 1, 1, 1, 1, 1, 1, 0, 1, 1, 1, 1, 1, 1, 0, 1, 0, 1, 1, 0, 1, 1,\n",
       "       1, 1, 1, 1, 1, 1, 0, 0, 1, 1, 1, 1, 1, 0, 0, 1, 1, 0, 0, 1, 1, 1,\n",
       "       0, 0, 1, 1, 0, 0, 1, 0, 1, 1, 1, 0, 1, 1, 0, 1, 0, 0, 0, 0, 0, 0,\n",
       "       1, 1, 1, 1, 1, 1, 1, 1, 0, 0, 1, 0, 0, 1, 0, 0, 1, 1, 1, 0, 1, 1,\n",
       "       0, 1, 1, 0, 1, 0, 1, 1, 1, 0, 1, 1, 1, 0, 1, 0, 0, 1, 1, 0, 0, 0,\n",
       "       1, 1, 1, 0, 1, 1, 1, 0, 1, 0, 1, 1, 0, 1, 0, 0, 0, 1, 0, 1, 1, 1,\n",
       "       1, 0, 0, 1, 1, 1, 1, 1, 1, 1, 0, 1, 1, 1, 1, 0, 1, 1, 1, 1, 1, 1,\n",
       "       0, 1, 1, 1, 1, 1, 1, 0, 0, 0, 1, 1, 0, 1, 0, 1, 1, 1, 1, 0, 1, 1,\n",
       "       0, 1, 1, 1, 0, 1, 0, 0, 1, 1, 1, 0, 1, 1, 1, 1, 0, 1, 1, 1, 1, 1,\n",
       "       0, 1, 0, 0, 1, 1, 0, 1, 1, 1, 1, 1, 1, 1, 0, 0, 0, 1, 1, 0, 1, 1,\n",
       "       0, 1, 0, 1, 0, 1, 0, 1, 1, 0, 1, 1, 1, 0, 1, 0, 1, 0, 1, 0, 1, 1,\n",
       "       0, 1, 1, 1, 1, 0, 1, 1, 1, 0, 1, 1, 0, 1, 1, 0, 1, 1, 1, 1, 1, 1,\n",
       "       1, 0, 1, 1, 1, 0, 1, 0, 1, 1, 1, 0, 1, 0, 0, 1, 1, 0, 1, 0, 0, 0,\n",
       "       1, 1, 1, 0, 1, 1, 0, 1, 0, 1, 1, 1, 0, 1, 0, 1, 1, 0, 0, 1, 1, 0,\n",
       "       1, 0, 0, 1, 0, 0, 1, 1, 0, 0, 0, 1, 1, 1, 1, 0, 1, 0, 0, 0, 0, 1,\n",
       "       1, 1, 1, 1, 1, 1, 1, 0, 0, 1, 1, 0, 1, 1, 1, 1, 1, 0, 1, 1, 0, 0,\n",
       "       1, 0, 1, 0, 1, 1, 1, 1, 1, 1, 0, 1, 1, 0, 1, 1, 1, 1, 1, 1, 0, 1,\n",
       "       1, 0, 1, 0, 0, 0, 1, 0, 1, 1, 0, 0, 0, 1, 1, 1, 1, 1, 1, 1, 0, 1,\n",
       "       1, 1, 0, 1, 1, 0, 0, 1, 0, 1, 0, 0, 1, 1, 0, 1, 0, 0, 1, 0, 0, 1,\n",
       "       1, 0, 1, 0, 1, 1, 0, 1, 1, 0, 0, 0, 1, 1, 1, 0, 0, 1, 0, 0, 1, 1,\n",
       "       1, 0, 1, 0, 0, 0, 0, 1, 1, 0, 1, 1, 0, 0, 0, 0, 0, 0, 1, 1, 1, 1,\n",
       "       1, 1, 1, 0, 0, 0, 0, 1, 1, 1, 1, 0, 1, 0, 1, 1, 1, 1, 1, 0, 0, 0,\n",
       "       1, 1, 0, 1, 1, 0, 0, 0, 0, 1, 1, 0, 0, 1, 1, 1, 0, 0, 0, 1, 1, 0,\n",
       "       1, 1, 1, 1, 0, 1, 1, 1, 1, 1, 1, 1, 1, 1, 0, 1, 1, 1, 1, 1, 1, 0,\n",
       "       1, 1, 0, 1, 1, 0, 0, 0, 1, 0, 0, 1, 0, 1, 1, 1, 1, 0, 1])"
      ]
     },
     "execution_count": 3,
     "metadata": {},
     "output_type": "execute_result"
    }
   ],
   "source": [
    "y"
   ]
  },
  {
   "cell_type": "code",
   "execution_count": 4,
   "id": "5ec1e5a6",
   "metadata": {},
   "outputs": [],
   "source": [
    "y_true = y.copy()\n",
    "y[50:] = -1\n",
    "total_samples = y.shape[0]\n"
   ]
  },
  {
   "cell_type": "code",
   "execution_count": 5,
   "id": "0226173a",
   "metadata": {
    "scrolled": true
   },
   "outputs": [
    {
     "data": {
      "text/plain": [
       "array([-1, -1, -1, -1, -1, -1, -1, -1, -1, -1, -1, -1, -1, -1, -1, -1, -1,\n",
       "       -1, -1, -1, -1, -1, -1, -1, -1, -1, -1, -1, -1, -1, -1, -1, -1, -1,\n",
       "       -1, -1, -1, -1, -1, -1, -1, -1, -1, -1, -1, -1, -1, -1, -1, -1, -1,\n",
       "       -1, -1, -1, -1, -1, -1, -1, -1, -1, -1, -1, -1, -1, -1, -1, -1, -1,\n",
       "       -1, -1, -1, -1, -1, -1, -1, -1, -1, -1, -1, -1, -1, -1, -1, -1, -1,\n",
       "       -1, -1, -1, -1, -1, -1, -1, -1, -1, -1, -1, -1, -1, -1, -1, -1, -1,\n",
       "       -1, -1, -1, -1, -1, -1, -1, -1, -1, -1, -1, -1, -1, -1, -1, -1, -1,\n",
       "       -1, -1, -1, -1, -1, -1, -1, -1, -1, -1, -1, -1, -1, -1, -1, -1, -1,\n",
       "       -1, -1, -1, -1, -1, -1, -1, -1, -1, -1, -1, -1, -1, -1, -1, -1, -1,\n",
       "       -1, -1, -1, -1, -1, -1, -1, -1, -1, -1, -1, -1, -1, -1, -1, -1, -1,\n",
       "       -1, -1, -1, -1, -1, -1, -1, -1, -1, -1, -1, -1, -1, -1, -1, -1, -1,\n",
       "       -1, -1, -1, -1, -1, -1, -1, -1, -1, -1, -1, -1, -1, -1, -1, -1, -1,\n",
       "       -1, -1, -1, -1, -1, -1, -1, -1, -1, -1, -1, -1, -1, -1, -1, -1, -1,\n",
       "       -1, -1, -1, -1, -1, -1, -1, -1, -1, -1, -1, -1, -1, -1, -1, -1, -1,\n",
       "       -1, -1, -1, -1, -1, -1, -1, -1, -1, -1, -1, -1, -1, -1, -1, -1, -1,\n",
       "       -1, -1, -1, -1, -1, -1, -1, -1, -1, -1, -1, -1, -1, -1, -1, -1, -1,\n",
       "       -1, -1, -1, -1, -1, -1, -1, -1, -1, -1, -1, -1, -1, -1, -1, -1, -1,\n",
       "       -1, -1, -1, -1, -1, -1, -1, -1, -1, -1, -1, -1, -1, -1, -1, -1, -1,\n",
       "       -1, -1, -1, -1, -1, -1, -1, -1, -1, -1, -1, -1, -1, -1, -1, -1, -1,\n",
       "       -1, -1, -1, -1, -1, -1, -1, -1, -1, -1, -1, -1, -1, -1, -1, -1, -1,\n",
       "       -1, -1, -1, -1, -1, -1, -1, -1, -1, -1, -1, -1, -1, -1, -1, -1, -1,\n",
       "       -1, -1, -1, -1, -1, -1, -1, -1, -1, -1, -1, -1, -1, -1, -1, -1, -1,\n",
       "       -1, -1, -1, -1, -1, -1, -1, -1, -1, -1, -1, -1, -1, -1, -1, -1, -1,\n",
       "       -1, -1, -1, -1, -1, -1, -1, -1, -1, -1, -1, -1, -1, -1, -1, -1, -1,\n",
       "       -1, -1, -1, -1, -1, -1, -1, -1, -1, -1, -1, -1, -1, -1, -1, -1, -1,\n",
       "       -1, -1, -1, -1, -1, -1, -1, -1, -1, -1, -1, -1, -1, -1, -1, -1, -1,\n",
       "       -1, -1, -1, -1, -1, -1, -1, -1, -1, -1, -1, -1, -1, -1, -1, -1, -1,\n",
       "       -1, -1, -1, -1, -1, -1, -1, -1, -1, -1, -1, -1, -1, -1, -1, -1, -1,\n",
       "       -1, -1, -1, -1, -1, -1, -1, -1, -1, -1, -1, -1, -1, -1, -1, -1, -1,\n",
       "       -1, -1, -1, -1, -1, -1, -1, -1, -1, -1, -1, -1, -1, -1, -1, -1, -1,\n",
       "       -1, -1, -1, -1, -1, -1, -1, -1, -1])"
      ]
     },
     "execution_count": 5,
     "metadata": {},
     "output_type": "execute_result"
    }
   ],
   "source": [
    "y[50:]"
   ]
  },
  {
   "cell_type": "code",
   "execution_count": 6,
   "id": "39bc8b20",
   "metadata": {},
   "outputs": [],
   "source": [
    "base_classifier = SVC(probability=True, gamma=0.001, random_state=42)\n",
    "\n",
    "x_values = np.arange(0.4, 1.05, 0.05)\n",
    "x_values = np.append(x_values, 0.99999)\n",
    "scores = np.empty((x_values.shape[0], n_splits))\n",
    "amount_labeled = np.empty((x_values.shape[0], n_splits))\n",
    "amount_iterations = np.empty((x_values.shape[0], n_splits))"
   ]
  },
  {
   "cell_type": "code",
   "execution_count": 7,
   "id": "faafe327",
   "metadata": {},
   "outputs": [
    {
     "data": {
      "text/plain": [
       "array([0.4    , 0.45   , 0.5    , 0.55   , 0.6    , 0.65   , 0.7    ,\n",
       "       0.75   , 0.8    , 0.85   , 0.9    , 0.95   , 1.     , 0.99999])"
      ]
     },
     "execution_count": 7,
     "metadata": {},
     "output_type": "execute_result"
    }
   ],
   "source": [
    "x_values"
   ]
  },
  {
   "cell_type": "code",
   "execution_count": 8,
   "id": "8e5aef1e",
   "metadata": {},
   "outputs": [
    {
     "data": {
      "text/plain": [
       "array([[1.50765120e-316, 0.00000000e+000, 6.90179131e-310],\n",
       "       [5.06741895e+233, 2.93300644e+222, 1.43616552e+161],\n",
       "       [7.23792189e+271, 3.42134148e+180, 1.17128651e+214],\n",
       "       [9.76515186e+199, 2.11651649e+214, 9.31739788e+242],\n",
       "       [1.06499872e-094, 1.97105504e-153, 7.54963979e-096],\n",
       "       [1.43393490e+166, 2.18898274e+068, 1.49138361e+195],\n",
       "       [2.42616766e+198, 9.39448801e-154, 9.10016855e+276],\n",
       "       [4.83245961e+276, 2.13028496e-313, 0.00000000e+000],\n",
       "       [0.00000000e+000, 0.00000000e+000, 0.00000000e+000],\n",
       "       [0.00000000e+000, 0.00000000e+000, 0.00000000e+000],\n",
       "       [0.00000000e+000, 0.00000000e+000, 0.00000000e+000],\n",
       "       [0.00000000e+000, 0.00000000e+000, 0.00000000e+000],\n",
       "       [0.00000000e+000, 0.00000000e+000, 0.00000000e+000],\n",
       "       [0.00000000e+000, 0.00000000e+000, 0.00000000e+000]])"
      ]
     },
     "execution_count": 8,
     "metadata": {},
     "output_type": "execute_result"
    }
   ],
   "source": [
    "scores"
   ]
  },
  {
   "cell_type": "code",
   "execution_count": 10,
   "id": "6e65de25",
   "metadata": {},
   "outputs": [
    {
     "data": {
      "text/plain": [
       "array([[1.31788622e-316, 0.00000000e+000, 1.39335457e-258],\n",
       "       [8.88064810e+252, 1.96841822e-153, 6.01334653e-154],\n",
       "       [7.33723604e+223, 1.28141778e+184, 1.48971616e+214],\n",
       "       [2.19980293e-152, 5.98190189e-154, 7.10086306e+194],\n",
       "       [3.92330556e-027, 2.16320665e-027, 1.06112095e-153],\n",
       "       [1.96960057e-153, 5.39230686e+241, 7.49231670e+247],\n",
       "       [3.99461109e+252, 1.10613814e+224, 2.11651649e+214],\n",
       "       [3.94655056e+180, 1.41760996e+190, 4.72585314e+257],\n",
       "       [1.69664085e-152, 2.43300942e-152, 5.93245346e+276],\n",
       "       [4.30529574e-096, 5.22287317e-143, 3.45054715e+175],\n",
       "       [4.44390394e+252, 9.05280232e+223, 2.14715295e+243],\n",
       "       [2.97338839e-027, 1.06209538e+248, 5.98178835e-154],\n",
       "       [3.54582485e+246, 9.91743091e+260, 1.96871742e-153],\n",
       "       [6.01334653e-154, 3.71505553e-027, 5.08715716e+173]])"
      ]
     },
     "execution_count": 10,
     "metadata": {},
     "output_type": "execute_result"
    }
   ],
   "source": [
    "amount_labeled"
   ]
  },
  {
   "cell_type": "code",
   "execution_count": 11,
   "id": "2152b88c",
   "metadata": {},
   "outputs": [
    {
     "data": {
      "text/plain": [
       "array([[ 9.52646361e-317,  0.00000000e+000,  5.85538145e-317],\n",
       "       [ 1.50186923e+232,  6.90176803e-310,  1.31846042e-316],\n",
       "       [ 3.88233907e+202,  6.90176803e-310,  1.31856635e-316],\n",
       "       [ 1.25647195e-285,  6.90176801e-310,  1.31889362e-316],\n",
       "       [ 8.78586006e+222,  6.90176801e-310,  6.90169880e-310],\n",
       "       [ 9.47176267e+080,  6.90176801e-310,  6.90169880e-310],\n",
       "       [-1.86778199e-137,  6.90176801e-310,  6.90169880e-310],\n",
       "       [-2.14357799e-142,  6.90176801e-310,  6.90169880e-310],\n",
       "       [ 1.52967524e+308,  6.90176801e-310,  6.90169882e-310],\n",
       "       [ 1.65816403e-252,  6.90176800e-310,  3.68394318e-317],\n",
       "       [-9.10391480e-098,  6.90176802e-310,  6.90169880e-310],\n",
       "       [-8.05504521e+003,  6.90176802e-310,  6.90169880e-310],\n",
       "       [-3.76275094e+088,  6.90176802e-310,  6.90176800e-310],\n",
       "       [ 4.13014674e-151,  6.90176801e-310,  6.90176800e-310]])"
      ]
     },
     "execution_count": 11,
     "metadata": {},
     "output_type": "execute_result"
    }
   ],
   "source": [
    "amount_iterations"
   ]
  },
  {
   "cell_type": "markdown",
   "id": "2afd6816",
   "metadata": {},
   "source": []
  },
  {
   "cell_type": "code",
   "execution_count": null,
   "id": "3d26e2d9",
   "metadata": {},
   "outputs": [],
   "source": []
  },
  {
   "cell_type": "code",
   "execution_count": 12,
   "id": "95036e74",
   "metadata": {},
   "outputs": [
    {
     "data": {
      "image/png": "[encoded data removed]",
      "text/plain": [
       "<Figure size 640x480 with 3 Axes>"
      ]
     },
     "metadata": {},
     "output_type": "display_data"
    }
   ],
   "source": [
    "n_splits = 3\n",
    "\n",
    "X, y = datasets.load_breast_cancer(return_X_y=True)\n",
    "X, y = shuffle(X, y, random_state=42)\n",
    "y_true = y.copy()\n",
    "y[50:] = -1\n",
    "total_samples = y.shape[0]\n",
    "\n",
    "base_classifier = SVC(probability=True, gamma=0.001, random_state=42)\n",
    "\n",
    "x_values = np.arange(0.4, 1.05, 0.05)\n",
    "x_values = np.append(x_values, 0.99999)\n",
    "scores = np.empty((x_values.shape[0], n_splits))\n",
    "amount_labeled = np.empty((x_values.shape[0], n_splits))\n",
    "amount_iterations = np.empty((x_values.shape[0], n_splits))\n",
    "\n",
    "for i, threshold in enumerate(x_values):\n",
    "    self_training_clf = SelfTrainingClassifier(base_classifier, threshold=threshold)\n",
    "\n",
    "    # We need manual cross validation so that we don't treat -1 as a separate\n",
    "    # class when computing accuracy\n",
    "    skfolds = StratifiedKFold(n_splits=n_splits)\n",
    "    for fold, (train_index, test_index) in enumerate(skfolds.split(X, y)):\n",
    "        X_train = X[train_index]\n",
    "        y_train = y[train_index]\n",
    "        X_test = X[test_index]\n",
    "        y_test = y[test_index]\n",
    "        y_test_true = y_true[test_index]\n",
    "\n",
    "        self_training_clf.fit(X_train, y_train)\n",
    "\n",
    "        # The amount of labeled samples that at the end of fitting\n",
    "        amount_labeled[i, fold] = (\n",
    "            total_samples\n",
    "            - np.unique(self_training_clf.labeled_iter_, return_counts=True)[1][0]\n",
    "        )\n",
    "        # The last iteration the classifier labeled a sample in\n",
    "        amount_iterations[i, fold] = np.max(self_training_clf.labeled_iter_)\n",
    "\n",
    "        y_pred = self_training_clf.predict(X_test)\n",
    "        scores[i, fold] = accuracy_score(y_test_true, y_pred)\n",
    "\n",
    "\n",
    "ax1 = plt.subplot(211)\n",
    "ax1.errorbar(\n",
    "    x_values, scores.mean(axis=1), yerr=scores.std(axis=1), capsize=2, color=\"b\"\n",
    ")\n",
    "ax1.set_ylabel(\"Accuracy\", color=\"b\")\n",
    "ax1.tick_params(\"y\", colors=\"b\")\n",
    "\n",
    "ax2 = ax1.twinx()\n",
    "ax2.errorbar(\n",
    "    x_values,\n",
    "    amount_labeled.mean(axis=1),\n",
    "    yerr=amount_labeled.std(axis=1),\n",
    "    capsize=2,\n",
    "    color=\"g\",\n",
    ")\n",
    "ax2.set_ylim(bottom=0)\n",
    "ax2.set_ylabel(\"Amount of labeled samples\", color=\"g\")\n",
    "ax2.tick_params(\"y\", colors=\"g\")\n",
    "\n",
    "ax3 = plt.subplot(212, sharex=ax1)\n",
    "ax3.errorbar(\n",
    "    x_values,\n",
    "    amount_iterations.mean(axis=1),\n",
    "    yerr=amount_iterations.std(axis=1),\n",
    "    capsize=2,\n",
    "    color=\"b\",\n",
    ")\n",
    "ax3.set_ylim(bottom=0)\n",
    "ax3.set_ylabel(\"Amount of iterations\")\n",
    "ax3.set_xlabel(\"Threshold\")\n",
    "\n",
    "plt.show()"
   ]
  },
  {
   "cell_type": "code",
   "execution_count": null,
   "id": "429cb16d",
   "metadata": {},
   "outputs": [],
   "source": []
  }
 ],
 "metadata": {
  "kernelspec": {
   "display_name": "Python 3 (ipykernel)",
   "language": "python",
   "name": "python3"
  },
  "language_info": {
   "codemirror_mode": {
    "name": "ipython",
    "version": 3
   },
   "file_extension": ".py",
   "mimetype": "text/x-python",
   "name": "python",
   "nbconvert_exporter": "python",
   "pygments_lexer": "ipython3",
   "version": "3.9.13"
  }
 },
 "nbformat": 4,
 "nbformat_minor": 5
}
